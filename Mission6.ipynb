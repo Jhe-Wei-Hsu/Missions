{
 "cells": [
  {
   "cell_type": "code",
   "execution_count": 1,
   "metadata": {},
   "outputs": [
    {
     "name": "stdout",
     "output_type": "stream",
     "text": [
      "Requirement already satisfied: flask in /opt/conda/lib/python3.7/site-packages (1.0.2)\n",
      "Requirement already satisfied: Werkzeug>=0.14 in /opt/conda/lib/python3.7/site-packages (from flask) (0.14.1)\n",
      "Requirement already satisfied: itsdangerous>=0.24 in /opt/conda/lib/python3.7/site-packages (from flask) (1.1.0)\n",
      "Requirement already satisfied: Jinja2>=2.10 in /opt/conda/lib/python3.7/site-packages (from flask) (2.10)\n",
      "Requirement already satisfied: click>=5.1 in /opt/conda/lib/python3.7/site-packages (from flask) (7.0)\n",
      "Requirement already satisfied: MarkupSafe>=0.23 in /opt/conda/lib/python3.7/site-packages (from Jinja2>=2.10->flask) (1.1.0)\n"
     ]
    }
   ],
   "source": [
    "!pip install flask"
   ]
  },
  {
   "cell_type": "code",
   "execution_count": 2,
   "metadata": {},
   "outputs": [
    {
     "name": "stdout",
     "output_type": "stream",
     "text": [
      " * Serving Flask app \"__main__\" (lazy loading)\n",
      " * Environment: production\n",
      "   WARNING: Do not use the development server in a production environment.\n",
      "   Use a production WSGI server instead.\n",
      " * Debug mode: off\n"
     ]
    },
    {
     "name": "stderr",
     "output_type": "stream",
     "text": [
      " * Running on http://0.0.0.0:5000/ (Press CTRL+C to quit)\n",
      "192.168.136.1 - - [05/Jan/2019 06:10:33] \"GET / HTTP/1.1\" 200 -\n"
     ]
    }
   ],
   "source": [
    "#引用套件\n",
    "from flask import Flask, request, abort, jsonify\n",
    "#jsonify不仅会将内容转换为json，而且也会修改Content-Type为application/json。\n",
    "#使用者端會提出一個請求稱為request, 在flask處理這些資訊的就是request，這是flask的自帶函數\n",
    "#Flask 自带了很顺手的 abort() 函数用于以一个 HTTP 失败代码中断一个请求，他也会提供一个非常简单的错误页面，用于提供一些基础的描述。\n",
    "\n",
    "#增加flask這個app的啟動點\n",
    "app = Flask(__name__,static_url_path = \"/images\" , static_folder = \"./images/\" )\n",
    "#給一個可被訪問的路徑/\n",
    "@app.route('/',methods=['GET'])\n",
    "#要show出來的內容--以json格式\n",
    "def hello_world():\n",
    "    t = {'a':1,'b':'Chicken leg'}\n",
    "    return jsonify(t)\n",
    "#啟動程式\n",
    "if __name__ == \"__main__\":\n",
    "    app.run(host='0.0.0.0')"
   ]
  }
 ],
 "metadata": {
  "kernelspec": {
   "display_name": "Python 3",
   "language": "python",
   "name": "python3"
  },
  "language_info": {
   "codemirror_mode": {
    "name": "ipython",
    "version": 3
   },
   "file_extension": ".py",
   "mimetype": "text/x-python",
   "name": "python",
   "nbconvert_exporter": "python",
   "pygments_lexer": "ipython3",
   "version": "3.7.1"
  }
 },
 "nbformat": 4,
 "nbformat_minor": 2
}
