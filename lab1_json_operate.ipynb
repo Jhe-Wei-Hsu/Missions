{
 "cells": [
  {
   "cell_type": "code",
   "execution_count": 11,
   "metadata": {},
   "outputs": [],
   "source": [
    "\n",
    "'''創建一個檔案，裡面塞入一個json object， object裡面需要有四個欄位，分別對應到 string, number, object, array。\n",
    "讀取該檔案做操作，將四個欄位進行內容修改，存回原檔案\n",
    "流程:\n",
    "1.建立檔案jsontest.txt\n",
    "2.讀取檔案\n",
    "3.寫入檔案\n",
    "4.存檔\n",
    "5.關閉檔案\n",
    "\n",
    "'''\n",
    "#調用操作系統命令，來建立文件，刪除文件，查詢文件\n",
    "import os\n",
    "#調用json函數\n",
    "import json\n",
    "#讀取檔案\n",
    "open1=open('jsontest.txt','w')\n",
    "#寫入檔案，先寫一個json object， object裡面需要有四個欄位，分別對應到 string, number, object, array。\n",
    "jsondata={\n",
    "    'jsonString': 'haha binghon is good',\n",
    "    'jsonNumber': 9487,\n",
    "    'jsonObject': {'iii': \"verygood\", 'cc104': '03'},\n",
    "    'jsonArray': ['a',5,4, 'd'] \n",
    "        }\n",
    "open1.write(json.dumps(jsondata))\n",
    "open1.close()"
   ]
  },
  {
   "cell_type": "code",
   "execution_count": null,
   "metadata": {},
   "outputs": [],
   "source": []
  }
 ],
 "metadata": {
  "kernelspec": {
   "display_name": "Python 3",
   "language": "python",
   "name": "python3"
  },
  "language_info": {
   "codemirror_mode": {
    "name": "ipython",
    "version": 3
   },
   "file_extension": ".py",
   "mimetype": "text/x-python",
   "name": "python",
   "nbconvert_exporter": "python",
   "pygments_lexer": "ipython3",
   "version": "3.7.2"
  }
 },
 "nbformat": 4,
 "nbformat_minor": 2
}
